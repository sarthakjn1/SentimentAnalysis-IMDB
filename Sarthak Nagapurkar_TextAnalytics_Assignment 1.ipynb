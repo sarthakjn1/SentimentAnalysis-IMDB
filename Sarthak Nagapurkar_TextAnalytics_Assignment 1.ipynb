{
 "cells": [
  {
   "cell_type": "markdown",
   "id": "dc076178",
   "metadata": {},
   "source": [
    "# Step 1: Data Preparation\n",
    "\n",
    "1.1 Loading the Dataset\n",
    "\n",
    "For simplicity, let's stick with the IMDB dataset, which can be loaded using PyTorch's torchtext library.\n",
    "\n",
    "### General Description of the IMDB Dataset:\n",
    "\n",
    "**Task: Binary Sentiment Classification\n",
    "\n",
    "Objective: Classify the sentiment of a movie review as either positive (label = 1) or negative (label = 0).\n",
    "Number of Classes: 2 (Positive, Negative)\n",
    "Dataset Size:\n",
    "Training Set: 25,000 reviews\n",
    "Test Set: 25,000 reviews\n",
    "Total: 50,000 reviews\n",
    "\n",
    "**Dataset Characteristics:\n",
    "\n",
    "Review Content: The reviews are in plain text, consisting of movie reviews written by users. These reviews vary in length and writing style, making the dataset a good testbed for text preprocessing, sentiment analysis, and text classification.\n",
    "Balanced Dataset: The dataset contains an equal number of positive and negative reviews, making it balanced for binary classification tasks.\n",
    "Positive reviews: 25,000\n",
    "Negative reviews: 25,000\n",
    "Review Length: The average length of reviews can vary, but some reviews are quite long (even exceeding 1,000 words). Typically, longer reviews tend to have more diverse opinions."
   ]
  },
  {
   "cell_type": "code",
   "execution_count": 14,
   "id": "65cfb0a5",
   "metadata": {},
   "outputs": [],
   "source": [
    "import torch\n",
    "from torchtext.datasets import IMDB\n",
    "from torchtext.data.utils import get_tokenizer\n",
    "from torchtext.vocab import build_vocab_from_iterator\n",
    "from torch.utils.data import DataLoader\n",
    "\n",
    "# Load IMDB dataset\n",
    "train_iter, test_iter = IMDB(split=('train', 'test'))\n",
    "\n",
    "# Tokenizer\n",
    "tokenizer = get_tokenizer('basic_english')\n",
    "\n",
    "# Function to yield tokenized text\n",
    "def yield_tokens(data_iter):\n",
    "    for _, text in data_iter:\n",
    "        yield tokenizer(text)\n",
    "\n",
    "# Build vocabulary from training data\n",
    "vocab = build_vocab_from_iterator(yield_tokens(train_iter), specials=[\"<unk>\"])\n",
    "vocab.set_default_index(vocab[\"<unk>\"])\n",
    "\n",
    "# Reset iterators (as they are exhausted after building vocab)\n",
    "train_iter, test_iter = IMDB(split=('train', 'test'))"
   ]
  },
  {
   "cell_type": "code",
   "execution_count": 15,
   "id": "01d5276f-8aa6-458f-9da6-abdbe52b8b34",
   "metadata": {},
   "outputs": [
    {
     "name": "stdout",
     "output_type": "stream",
     "text": [
      "(1, 'I rented I AM CURIOUS-YELLOW from my video store because of all the controversy that surrounded it when it was first released in 1967. I also heard that at first it was seized by U.S. customs if it ever tried to enter this country, therefore being a fan of films considered \"controversial\" I really had to see this for myself.<br /><br />The plot is centered around a young Swedish drama student named Lena who wants to learn everything she can about life. In particular she wants to focus her attentions to making some sort of documentary on what the average Swede thought about certain political issues such as the Vietnam War and race issues in the United States. In between asking politicians and ordinary denizens of Stockholm about their opinions on politics, she has sex with her drama teacher, classmates, and married men.<br /><br />What kills me about I AM CURIOUS-YELLOW is that 40 years ago, this was considered pornographic. Really, the sex and nudity scenes are few and far between, even then it\\'s not shot like some cheaply made porno. While my countrymen mind find it shocking, in reality sex and nudity are a major staple in Swedish cinema. Even Ingmar Bergman, arguably their answer to good old boy John Ford, had sex scenes in his films.<br /><br />I do commend the filmmakers for the fact that any sex shown in the film is shown for artistic purposes rather than just to shock people and make money to be shown in pornographic theaters in America. I AM CURIOUS-YELLOW is a good film for anyone wanting to study the meat and potatoes (no pun intended) of Swedish cinema. But really, this film doesn\\'t have much of a plot.')\n",
      "Training cases:  25000\n",
      "(1, 'I love sci-fi and am willing to put up with a lot. Sci-fi movies/TV are usually underfunded, under-appreciated and misunderstood. I tried to like this, I really did, but it is to good TV sci-fi as Babylon 5 is to Star Trek (the original). Silly prosthetics, cheap cardboard sets, stilted dialogues, CG that doesn\\'t match the background, and painfully one-dimensional characters cannot be overcome with a \\'sci-fi\\' setting. (I\\'m sure there are those of you out there who think Babylon 5 is good sci-fi TV. It\\'s not. It\\'s clichéd and uninspiring.) While US viewers might like emotion and character development, sci-fi is a genre that does not take itself seriously (cf. Star Trek). It may treat important issues, yet not as a serious philosophy. It\\'s really difficult to care about the characters here as they are not simply foolish, just missing a spark of life. Their actions and reactions are wooden and predictable, often painful to watch. The makers of Earth KNOW it\\'s rubbish as they have to always say \"Gene Roddenberry\\'s Earth...\" otherwise people would not continue watching. Roddenberry\\'s ashes must be turning in their orbit as this dull, cheap, poorly edited (watching it without advert breaks really brings this home) trudging Trabant of a show lumbers into space. Spoiler. So, kill off a main character. And then bring him back as another actor. Jeeez! Dallas all over again.')\n",
      "Test cases:  25000\n"
     ]
    }
   ],
   "source": [
    "# Convert IMDB iterators to lists\n",
    "train_list = list(train_iter)\n",
    "test_list = list(test_iter)\n",
    "\n",
    "print(train_list[0])\n",
    "print(\"Training cases: \", len(train_list))\n",
    "\n",
    "print(test_list[0])\n",
    "print(\"Test cases: \", len(test_list))"
   ]
  },
  {
   "cell_type": "markdown",
   "id": "8adfd20c",
   "metadata": {},
   "source": [
    "# 1.2 Text Preprocessing and DataLoader\n",
    "\n",
    "Convert the text data into tokenized sequences and pad them to a fixed length."
   ]
  },
  {
   "cell_type": "code",
   "execution_count": 16,
   "id": "45259c43",
   "metadata": {},
   "outputs": [
    {
     "name": "stdout",
     "output_type": "stream",
     "text": [
      "finish\n"
     ]
    }
   ],
   "source": [
    "from torch.nn.utils.rnn import pad_sequence\n",
    "from torch.utils.data.dataset import random_split\n",
    "\n",
    "# Set sequence length\n",
    "max_length = 200\n",
    "\n",
    "# Text processing function: convert text to numerical tokens and pad\n",
    "def text_pipeline(text):\n",
    "    tokens = vocab(tokenizer(text))\n",
    "    if len(tokens) > max_length:\n",
    "        return tokens[:max_length]\n",
    "    else:\n",
    "        return tokens + [0] * (max_length - len(tokens))\n",
    "\n",
    "# Label processing function: convert label to binary (pos=1, neg=0)\n",
    "def label_pipeline(label):\n",
    "    return 1 if label == 1 else 0\n",
    "\n",
    "# Prepare the data iterators\n",
    "def collate_batch(batch):\n",
    "    text_list, label_list = [], []\n",
    "    for label, text in batch:\n",
    "        label_list.append(label_pipeline(label))\n",
    "        text_list.append(torch.tensor(text_pipeline(text), dtype=torch.int64))\n",
    "    return torch.stack(text_list), torch.tensor(label_list, dtype=torch.float32)\n",
    "\n",
    "train_dataloader = DataLoader(train_list, batch_size=64, shuffle=True, collate_fn=collate_batch)\n",
    "test_dataloader = DataLoader(test_list, batch_size=64, shuffle=False, collate_fn=collate_batch)\n",
    "print(\"finish\")\n"
   ]
  },
  {
   "cell_type": "markdown",
   "id": "8cbbd470-ea6a-4c0c-a9d9-5acd81677641",
   "metadata": {},
   "source": [
    "### Add Pre-trained Embedding\n",
    "\n",
    "We plan to use pre-trained word embeddings from GloVe. We will fine-tune these embeddings for the movie reviews dataset."
   ]
  },
  {
   "cell_type": "code",
   "execution_count": 23,
   "id": "b08fa60e-c5a0-46d8-9539-7e4cd1ccbd0d",
   "metadata": {},
   "outputs": [],
   "source": [
    "#Use pre-trained word embeddings from GloVe. \n",
    "\n",
    "import numpy as np\n",
    "# Path to the GloVe file\n",
    "glove_file = 'glove.6B\\glove.6B\\glove.6B.100d.txt'  # Change path as needed\n",
    "\n",
    "# Initialize an empty dictionary\n",
    "embeddings_index = {}\n",
    "\n",
    "# Load the GloVe vectors\n",
    "with open(glove_file, encoding='utf-8') as f:\n",
    "    for line in f:\n",
    "        values = line.split()\n",
    "        word = values[0]\n",
    "        coefs = np.asarray(values[1:], dtype='float32')\n",
    "        embeddings_index[word] = coefs\n",
    "\n",
    "# Define the embedding dimension (this should match your GloVe vectors, e.g., 100 for 100d GloVe)\n",
    "vocab_size = len(vocab)\n",
    "embedding_dim = 100\n",
    "\n",
    "# Initialize the embedding matrix (vocab_size x embedding_dim)\n",
    "embedding_matrix = np.zeros((vocab_size, embedding_dim))\n",
    "\n",
    "# Fill the embedding matrix with GloVe vectors\n",
    "for word, i in train_dataloader:\n",
    "    embedding_vector = embeddings_index.get(word)\n",
    "    if embedding_vector is not None:\n",
    "        embedding_matrix[i] = embedding_vector"
   ]
  },
  {
   "cell_type": "markdown",
   "id": "610f053f",
   "metadata": {},
   "source": [
    "### Step 3: Building the Feedforward Neural Network Model\n",
    "\n",
    "**3.1 Defining the Model Architecture in PyTorch\n",
    "\n",
    "Build a simple feedforward neural network using pre-trained embeddings."
   ]
  },
  {
   "cell_type": "code",
   "execution_count": 22,
   "id": "4c2a519a",
   "metadata": {},
   "outputs": [
    {
     "name": "stdout",
     "output_type": "stream",
     "text": [
      "vocab_size, embedding_dim, hidden_dim, output_dim 100683 100 1\n"
     ]
    }
   ],
   "source": [
    "import torch.nn as nn\n",
    "\n",
    "class FFNN_TextClassifier(nn.Module):\n",
    "    def __init__(self, vocab_size, embedding_dim, output_dim):\n",
    "        super(FFNN_TextClassifier, self).__init__()\n",
    "        self.embedding = nn.Embedding(vocab_size, embedding_dim)\n",
    "        self.embedding.weight = nn.Parameter(torch.tensor(embedding_matrix, dtype=torch.float32))\n",
    "        self.embedding.weight.requires_grad = True\n",
    "        self.fc1 = nn.Linear(embedding_dim * max_length, output_dim)\n",
    "        self.relu = nn.ReLU()\n",
    "    \n",
    "    def forward(self, text):\n",
    "        embedded = self.embedding(text)\n",
    "        embedded = embedded.view(embedded.size(0), -1)  # Flatten\n",
    "        output = self.relu(self.fc1(embedded))\n",
    "        return output\n",
    "\n",
    "# Instantiate the model\n",
    "embedding_dim = 100\n",
    "vocab_size = len(vocab)\n",
    "output_dim = 1  # Binary classification\n",
    "\n",
    "print(\"vocab_size, embedding_dim, hidden_dim, output_dim\", vocab_size, embedding_dim, output_dim)\n",
    "model = FFNN_TextClassifier(vocab_size, embedding_dim, output_dim)\n"
   ]
  },
  {
   "cell_type": "markdown",
   "id": "47fe85a1",
   "metadata": {},
   "source": [
    "### Step 4: Training the Model\n",
    "\n",
    "**4.1 Define Loss Function, Optimizer, and Training Loop"
   ]
  },
  {
   "cell_type": "code",
   "execution_count": 24,
   "id": "82cda1cd",
   "metadata": {},
   "outputs": [
    {
     "name": "stdout",
     "output_type": "stream",
     "text": [
      "Epoch: 1, Training Loss: 0.56040600\n",
      "Epoch: 2, Training Loss: 0.43289931\n",
      "Epoch: 3, Training Loss: 0.38790478\n",
      "Epoch: 4, Training Loss: 0.37351632\n",
      "Epoch: 5, Training Loss: 0.36886769\n",
      "Epoch: 6, Training Loss: 0.36614848\n",
      "Epoch: 7, Training Loss: 0.36528832\n",
      "Epoch: 8, Training Loss: 0.36512598\n",
      "Epoch: 9, Training Loss: 0.36373957\n",
      "Epoch: 10, Training Loss: 0.36340582\n"
     ]
    }
   ],
   "source": [
    "import torch.optim as optim\n",
    "\n",
    "# Define loss function and optimizer\n",
    "criterion = nn.BCEWithLogitsLoss()  # Binary classification, so we use binary cross-entropy\n",
    "optimizer = optim.Adam(model.parameters(), lr=0.001)\n",
    "\n",
    "# Training loop\n",
    "def train(model, dataloader, criterion, optimizer):\n",
    "    model.train()\n",
    "    total_loss, total_acc = 0, 0\n",
    "    for text, labels in dataloader:\n",
    "        optimizer.zero_grad()\n",
    "        output = model(text)\n",
    "        loss = criterion(output.squeeze(), labels)\n",
    "        loss.backward()\n",
    "        optimizer.step()\n",
    "        total_loss += loss.item()\n",
    "    return total_loss / len(dataloader)\n",
    "\n",
    "# Train the model\n",
    "num_epochs = 10\n",
    "for epoch in range(num_epochs):\n",
    "    train_loss = train(model, train_dataloader, criterion, optimizer)\n",
    "    print(f'Epoch: {epoch+1}, Training Loss: {train_loss:.8f}')\n"
   ]
  },
  {
   "cell_type": "markdown",
   "id": "cefcb1e5",
   "metadata": {},
   "source": [
    "### Step 5: Model Evaluation\n",
    "\n",
    "**5.1 Evaluating the Model on the Test Set"
   ]
  },
  {
   "cell_type": "code",
   "execution_count": 21,
   "id": "5caacee0",
   "metadata": {},
   "outputs": [
    {
     "name": "stdout",
     "output_type": "stream",
     "text": [
      "Test Loss: 0.5645, Test Accuracy: 0.8396\n",
      "Precision: 0.8687, Recall: 0.8000, F1 Score: 0.8330\n"
     ]
    }
   ],
   "source": [
    "import sklearn\n",
    "from sklearn.metrics import accuracy_score, precision_recall_fscore_support\n",
    "\n",
    "def evaluate(model, dataloader, criterion):\n",
    "    model.eval()\n",
    "    total_loss, total_acc = 0, 0\n",
    "    all_preds, all_labels = [], []\n",
    "    with torch.no_grad():\n",
    "        for text, labels in dataloader:\n",
    "            output = model(text)\n",
    "            loss = criterion(output.squeeze(), labels)\n",
    "            preds = torch.round(torch.sigmoid(output))\n",
    "            all_preds.extend(preds.numpy())\n",
    "            all_labels.extend(labels.numpy())\n",
    "            #print(\"all_preds\", all_preds)\n",
    "            #print(\"all_labels\", all_labels)\n",
    "            total_loss += loss.item()\n",
    "    #print(sum(all_labels))\n",
    "    accuracy = accuracy_score(all_labels, all_preds)\n",
    "    precision, recall, f1, _ = precision_recall_fscore_support(all_labels, all_preds, average='binary')\n",
    "    return total_loss / len(dataloader), accuracy, precision, recall, f1\n",
    "\n",
    "# Evaluate the model\n",
    "test_loss, test_accuracy, precision, recall, f1 = evaluate(model, test_dataloader, criterion)\n",
    "print(f'Test Loss: {test_loss:.4f}, Test Accuracy: {test_accuracy:.4f}')\n",
    "print(f'Precision: {precision:.4f}, Recall: {recall:.4f}, F1 Score: {f1:.4f}')\n"
   ]
  },
  {
   "cell_type": "code",
   "execution_count": null,
   "id": "3cc4d21b-48d5-4ffd-a7e0-096084acf402",
   "metadata": {},
   "outputs": [],
   "source": []
  }
 ],
 "metadata": {
  "kernelspec": {
   "display_name": "Python 3 (ipykernel)",
   "language": "python",
   "name": "python3"
  },
  "language_info": {
   "codemirror_mode": {
    "name": "ipython",
    "version": 3
   },
   "file_extension": ".py",
   "mimetype": "text/x-python",
   "name": "python",
   "nbconvert_exporter": "python",
   "pygments_lexer": "ipython3",
   "version": "3.12.7"
  }
 },
 "nbformat": 4,
 "nbformat_minor": 5
}
